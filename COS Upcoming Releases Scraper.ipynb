{
 "cells": [
  {
   "cell_type": "code",
   "execution_count": 34,
   "metadata": {
    "collapsed": true
   },
   "outputs": [],
   "source": [
    "import requests\n",
    "from bs4 import BeautifulSoup\n",
    "from bs4.diagnose import diagnose\n",
    "from IPython.display import Image"
   ]
  },
  {
   "cell_type": "code",
   "execution_count": 2,
   "metadata": {
    "collapsed": true
   },
   "outputs": [],
   "source": [
    "req = requests.get('http://consequenceofsound.net/upcoming-releases/')\n",
    "soup = BeautifulSoup(req.text, 'html.parser')"
   ]
  },
  {
   "cell_type": "code",
   "execution_count": 69,
   "metadata": {
    "collapsed": false
   },
   "outputs": [
    {
     "name": "stdout",
     "output_type": "stream",
     "text": [
      " May 6, 2016 (IN 2 days)\n",
      "ANOHNI – HOPELESSNESS\n",
      "Beverly – The Blue Swell\n",
      "Jean-Michel Jarre – Electronica 1: The Heart of Noise\n",
      "LUH – Spiritual Songs for Lovers to Sing\n",
      "Little Scream – Cult Following\n",
      "Skepta – Konnichiwa\n",
      "White Lung – Paradise\n",
      " May 13, 2016 (IN 1 week)\n",
      "Astronautalis – Cut the Body Loose\n",
      "Eagulls – Ullages\n",
      "Head Wound City – A New Wave of Violence\n",
      "Islands – Should I Remain Here at Sea?\n",
      "Islands – Taste\n",
      "Kvelertak – Nattesferd\n",
      "Kygo – Cloud Nine\n",
      "Mark Pritchard – Under the Sun\n",
      "Modern Baseball – Holy Ghost\n",
      "The So So Glos – Kamikaze\n",
      "Twin Peaks – Down in Heaven\n",
      " May 20, 2016 (IN 2 weeks)\n",
      "Black Pistol Fire – Don’t Wake the Riot\n",
      "Bob Dylan – Fallen Angels\n",
      "Car Seat Headrest – Teens of Denial\n",
      "Mudcrutch – 2\n",
      "Mutual Benefit – Skip a Sinking Stone\n",
      "Pantha du Prince – The Triad\n",
      "Various Artists – Day of the Dead\n",
      " May 27, 2016 (IN 3 weeks)\n",
      "BRONCHO – Double Vanity\n",
      "Band of Skulls – By Default\n",
      "Flume – Skin\n",
      "Gold Panda – Good Luck and Do Your Best\n",
      "Kristin Kontrol – X-Communicate\n",
      "Mark Kozelek – Mark Kozelek Sings Favorites\n",
      "PUP – The Dream is Over\n",
      "Sonny & the Sunsets – Moods Baby Moods\n",
      "The Hotelier – Goodness\n",
      "Yumi Zouma – Yoncalla\n",
      " June 3, 2016 (IN 4 weeks)\n",
      "Cat’s Eyes – Treasure House\n",
      "Fear of Men – Fall Forever\n",
      "Ladyhawke – Wild Things\n",
      "Melvins – Basses Loaded\n",
      "Paul Simon – Stranger to Stranger\n",
      "Steve Gunn – Eyes on the Lines\n",
      "Tegan and Sara – Love You to Death\n",
      "The Kills – Ash & Ice\n",
      " June 10, 2016 (IN 1 month)\n",
      "Air – Twentyears\n",
      "Alexis Taylor – Piano\n",
      "Diarrhea Planet – Turn to Gold\n",
      "Diarrhea Planet – Turn to Gold\n",
      "Garbage – Strange Little Birds\n",
      "Nite Jewel – Liquid Cool\n",
      "Peter Bjorn and John – Breakin’ Point\n",
      "The Invisible – Patience\n",
      "The Monkees – Good Times!\n",
      "Yung – A Youthful Dream\n",
      " June 17, 2016 (IN 1 month)\n",
      "Caveman – Otero War\n",
      "Mitski – Puberty 2\n",
      "Swans – The Glowing Man\n",
      "Weaves – Weaves\n",
      " June 22, 2016 (IN 2 months)\n",
      "Delorean – Muzik\n",
      " June 24, 2016 (IN 2 months)\n",
      "DJ Shadow – The Mountain Will Fall\n",
      "The Avett Brothers – True Sadness\n",
      "The Felice Brothers – Life in the Dark\n",
      " June 30, 2016 (IN 2 months)\n",
      "Pusha T – King Push\n",
      " July 1, 2016 (IN 2 months)\n",
      "Bat for Lashes – The Bride\n",
      " July 8, 2016 (IN 2 months)\n",
      "The Julie Ruin – Hit Reset\n",
      " October 14, 2016 (IN 5 months)\n",
      "Various Artists – Say Yes! A Tribute to Elliott Smith\n"
     ]
    }
   ],
   "source": [
    "article = soup.find(id=\"main-content\")\n",
    "for e1 in article.find_all('section', class_ = 'results-chunk'):        \n",
    "    for e2 in e1.find_all('h2'):\n",
    "        print (e2.text)\n",
    "        for e3 in e1.find_all('span', class_ = 'title'):\n",
    "            print (e3.text)"
   ]
  },
  {
   "cell_type": "code",
   "execution_count": null,
   "metadata": {
    "collapsed": true
   },
   "outputs": [],
   "source": []
  }
 ],
 "metadata": {
  "kernelspec": {
   "display_name": "Python 3",
   "language": "python",
   "name": "python3"
  },
  "language_info": {
   "codemirror_mode": {
    "name": "ipython",
    "version": 3
   },
   "file_extension": ".py",
   "mimetype": "text/x-python",
   "name": "python",
   "nbconvert_exporter": "python",
   "pygments_lexer": "ipython3",
   "version": "3.5.1"
  }
 },
 "nbformat": 4,
 "nbformat_minor": 0
}
